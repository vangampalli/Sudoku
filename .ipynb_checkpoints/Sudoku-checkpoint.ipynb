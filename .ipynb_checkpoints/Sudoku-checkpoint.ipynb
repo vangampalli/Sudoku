{
 "cells": [
  {
   "cell_type": "code",
   "execution_count": null,
   "id": "740b36da",
   "metadata": {},
   "outputs": [],
   "source": [
    "#check if board is solved\n",
    "def is_solved(board):\n",
    "    return False\n",
    "\n",
    "#print board\n",
    "def print_board(board):\n",
    "    print(\"this is board\")\n",
    "    \n",
    "#main\n",
    "\n",
    "board_default =   [[0, 0, 0, 0, 0, 0, 0, 0, 0],\n",
    "                   [0, 0, 0, 0, 0, 0, 0, 0, 0],\n",
    "                   [0, 0, 0, 0, 0, 0, 0, 0, 0],\n",
    "                   [0, 0, 0, 0, 0, 0, 0, 0, 0],\n",
    "                   [0, 0, 0, 0, 0, 0, 0, 0, 0],\n",
    "                   [0, 0, 0, 0, 0, 0, 0, 0, 0],\n",
    "                   [0, 0, 0, 0, 0, 0, 0, 0, 0],\n",
    "                   [0, 0, 0, 0, 0, 0, 0, 0, 0],\n",
    "                   [0, 0, 0, 0, 0, 0, 0, 0, 0]]\n",
    "\n",
    "board_one =   [[5, 0, 9, 0, 0, 0, 4, 0, 0],\n",
    "               [7, 0, 8, 3, 0, 4, 9, 0, 0],\n",
    "               [6, 0, 1, 0, 0, 0, 7, 3, 0],\n",
    "               [4, 6, 2, 5, 0, 0, 0, 0, 0],\n",
    "               [3, 8, 5, 7, 2, 0, 6, 4, 9],\n",
    "               [1, 0, 7, 4, 0, 8, 2, 0, 0],\n",
    "               [2, 0, 0, 1, 0, 0, 0, 0, 4],\n",
    "               [0, 0, 3, 0, 4, 0, 0, 8, 7],\n",
    "               [0, 7, 0, 0, 5, 3, 0, 0, 6]]\n",
    "\n",
    "board = board_one\n",
    "\n",
    "solved = is_solved(board)\n",
    "while(!solved):\n",
    "    \n",
    "    if False:\n",
    "        #ai stuff\n",
    "    else:\n",
    "        #manual move\n",
    "        #later is guess move\n",
    "        \n",
    "        vert = int(input(\"Insert vertical index\"))\n",
    "        hori = int(input(\"Insert horizontal index\"))\n",
    "        num = int(input(\"Insert number\"))\n",
    "        \n",
    "        board[vert][hori] = num\n",
    "    \n",
    "    solved = is_solved(board)\n",
    "        \n",
    "print(\"FINISHED\")\n",
    "print_board(board)"
   ]
  }
 ],
 "metadata": {
  "kernelspec": {
   "display_name": "Python 3 (ipykernel)",
   "language": "python",
   "name": "python3"
  },
  "language_info": {
   "codemirror_mode": {
    "name": "ipython",
    "version": 3
   },
   "file_extension": ".py",
   "mimetype": "text/x-python",
   "name": "python",
   "nbconvert_exporter": "python",
   "pygments_lexer": "ipython3",
   "version": "3.9.12"
  }
 },
 "nbformat": 4,
 "nbformat_minor": 5
}
